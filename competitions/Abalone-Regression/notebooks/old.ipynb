{
 "cells": [
  {
   "cell_type": "markdown",
   "metadata": {},
   "source": [
    "## LGBM Model\n"
   ]
  },
  {
   "cell_type": "code",
   "execution_count": 4,
   "metadata": {},
   "outputs": [],
   "source": [
    "import lightgbm as lgb\n",
    "import numpy as np\n",
    "from sklearn.model_selection import GridSearchCV\n",
    "from sklearn.metrics import mean_squared_error"
   ]
  },
  {
   "cell_type": "code",
   "execution_count": null,
   "metadata": {},
   "outputs": [],
   "source": [
    "\n",
    "param_grid = {\n",
    "    'n_estimators': [500, 600, 700],\n",
    "    'learning_rate': [0.08],\n",
    "    'num_leaves': [43],\n",
    "    'max_depth': [5],\n",
    "    'min_data_in_leaf': [19],\n",
    "    'lambda_l1': [0.1, 0.2],\n",
    "    'lambda_l2': [0.1, 0.2],\n",
    "    'min_gain_to_split': [0.1, 0.2],\n",
    "    'bagging_fraction': [0.9, 0.85],\n",
    "    'bagging_freq': [3, 5],\n",
    "    'feature_fraction': [1],\n",
    "    \"colsample_bytree\": [0.7],\n",
    "}\n",
    "\n",
    "model = lgb.LGBMRegressor(n_jobs=-1, objective='regression')\n",
    "grid_search = GridSearchCV(model, param_grid, cv=5, scoring='neg_root_mean_squared_log_error')\n",
    "\n",
    "grid_search.fit(X_train, y_train)\n",
    "\n",
    "print(\"Best Parameters:\", grid_search.best_params_)\n",
    "print(\"Best Score:\", grid_search.best_score_)\n",
    "\n",
    "\n",
    "best_model = grid_search.best_estimator_"
   ]
  },
  {
   "cell_type": "markdown",
   "metadata": {},
   "source": [
    "Best Parameters: {'learning_rate': 0.1, 'max_depth': 5, 'n_estimators': 500, 'num_leaves': 31}\n",
    "RMSLE: 0.152062916732084"
   ]
  },
  {
   "cell_type": "markdown",
   "metadata": {},
   "source": [
    "param_grid = {\n",
    "    'n_estimators': [500],\n",
    "    'learning_rate': [0.1],\n",
    "    'num_leaves': [31],\n",
    "    'max_depth': [5],\n",
    "    'min_data_in_leaf': [19],\n",
    "    'lambda_l1': [0.1],\n",
    "    'lambda_l2': [0.1],\n",
    "    'min_gain_to_split': [0.1],\n",
    "    'bagging_fraction': [0.9],\n",
    "    'bagging_freq': [3],\n",
    "    'feature_fraction': [0.9],\n",
    "    'max_bin': [255],\n",
    "    \"colsample_bytree\": [0.7],\n",
    "}\n",
    "0.15186426150275126\n",
    "\n",
    "Best Parameters: {'bagging_fraction': 0.9, 'bagging_freq': 3, 'colsample_bytree': 0.7, 'feature_fraction': 0.9, 'lambda_l1': 0.1, 'lambda_l2': 0.1, 'learning_rate': 0.1, 'max_bin': 255, 'max_depth': 5, 'min_data_in_leaf': 19, 'min_gain_to_split': 0.1, 'n_estimators': 500, 'num_leaves': 31}\n"
   ]
  },
  {
   "cell_type": "markdown",
   "metadata": {},
   "source": [
    "## Manual Vote Score (Bug TB Fixed)"
   ]
  },
  {
   "cell_type": "code",
   "execution_count": null,
   "metadata": {},
   "outputs": [],
   "source": [
    "def vote_score(modelslist, y_val, X_val):\n",
    "    predictionslist = []\n",
    "    for model in modelslist:\n",
    "        predictions = model.predict(X_val)\n",
    "        rounded_predictions = np.round(predictions).astype(int)\n",
    "        rounded_predictions = rounded_predictions.flatten()\n",
    "        predictionslist.append(rounded_predictions)\n",
    "    \n",
    "    finaloutput = []\n",
    "    for index, prediction in enumerate(predictionslist[0]):\n",
    "        if predictionslist[1][index] == predictionslist[2][index] == predictionslist[0][index]:\n",
    "            finaloutput.append(prediction)\n",
    "        elif predictionslist[0][index] == predictionslist[1][index]:\n",
    "            finaloutput.append(predictionslist[0][index])\n",
    "        elif predictionslist[0][index] == predictionslist[2][index]:\n",
    "            finaloutput.append(predictionslist[0][index])\n",
    "        elif predictionslist[1][index] == predictionslist[2][index]:\n",
    "            finaloutput.append(predictionslist[1][index])\n",
    "        else:\n",
    "            roundedoutput = np.round(np.mean([predictionslist[0][index], predictionslist[1][index], predictionslist[2][index]])).astype(int)\n",
    "            finaloutput.append(roundedoutput)\n",
    "    \n",
    "    y_test_log = np.log1p(y_val)\n",
    "    y_pred_log = np.log1p(finaloutput)\n",
    "\n",
    "    print(\"Sum of NaN values in y_test_log:\", np.isnan(y_test_log).sum())\n",
    "    print(\"Sum of NaN values in y_pred_log:\", np.isnan(y_pred_log).sum())\n",
    "\n",
    "    rmsle = mean_squared_error(y_test_log, y_pred_log, squared=False) \n",
    "    print(\"RMSLE:\", rmsle)"
   ]
  }
 ],
 "metadata": {
  "kernelspec": {
   "display_name": "Python 3",
   "language": "python",
   "name": "python3"
  },
  "language_info": {
   "codemirror_mode": {
    "name": "ipython",
    "version": 3
   },
   "file_extension": ".py",
   "mimetype": "text/x-python",
   "name": "python",
   "nbconvert_exporter": "python",
   "pygments_lexer": "ipython3",
   "version": "3.10.12"
  }
 },
 "nbformat": 4,
 "nbformat_minor": 2
}
